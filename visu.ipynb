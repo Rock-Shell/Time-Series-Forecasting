{
 "cells": [
  {
   "cell_type": "code",
   "execution_count": 2,
   "id": "cultural-sheffield",
   "metadata": {},
   "outputs": [],
   "source": [
    "import pandas as pd\n",
    "import numpy as np\n",
    "import seaborn as sns\n",
    "import matplotlib.pyplot as plt"
   ]
  },
  {
   "cell_type": "code",
   "execution_count": 3,
   "id": "civil-spice",
   "metadata": {},
   "outputs": [
    {
     "data": {
      "text/html": [
       "<div>\n",
       "<style scoped>\n",
       "    .dataframe tbody tr th:only-of-type {\n",
       "        vertical-align: middle;\n",
       "    }\n",
       "\n",
       "    .dataframe tbody tr th {\n",
       "        vertical-align: top;\n",
       "    }\n",
       "\n",
       "    .dataframe thead th {\n",
       "        text-align: right;\n",
       "    }\n",
       "</style>\n",
       "<table border=\"1\" class=\"dataframe\">\n",
       "  <thead>\n",
       "    <tr style=\"text-align: right;\">\n",
       "      <th></th>\n",
       "      <th>Date</th>\n",
       "      <th>Open</th>\n",
       "      <th>High</th>\n",
       "      <th>Low</th>\n",
       "      <th>Close</th>\n",
       "      <th>Adj Close</th>\n",
       "      <th>Volume</th>\n",
       "    </tr>\n",
       "  </thead>\n",
       "  <tbody>\n",
       "    <tr>\n",
       "      <th>0</th>\n",
       "      <td>2019-05-10</td>\n",
       "      <td>42.000000</td>\n",
       "      <td>45.000000</td>\n",
       "      <td>41.060001</td>\n",
       "      <td>41.570000</td>\n",
       "      <td>41.570000</td>\n",
       "      <td>186322500</td>\n",
       "    </tr>\n",
       "    <tr>\n",
       "      <th>1</th>\n",
       "      <td>2019-05-13</td>\n",
       "      <td>38.790001</td>\n",
       "      <td>39.240002</td>\n",
       "      <td>36.080002</td>\n",
       "      <td>37.099998</td>\n",
       "      <td>37.099998</td>\n",
       "      <td>79442400</td>\n",
       "    </tr>\n",
       "    <tr>\n",
       "      <th>2</th>\n",
       "      <td>2019-05-14</td>\n",
       "      <td>38.310001</td>\n",
       "      <td>39.959999</td>\n",
       "      <td>36.849998</td>\n",
       "      <td>39.959999</td>\n",
       "      <td>39.959999</td>\n",
       "      <td>46661100</td>\n",
       "    </tr>\n",
       "    <tr>\n",
       "      <th>3</th>\n",
       "      <td>2019-05-15</td>\n",
       "      <td>39.369999</td>\n",
       "      <td>41.880001</td>\n",
       "      <td>38.950001</td>\n",
       "      <td>41.290001</td>\n",
       "      <td>41.290001</td>\n",
       "      <td>36086100</td>\n",
       "    </tr>\n",
       "    <tr>\n",
       "      <th>4</th>\n",
       "      <td>2019-05-16</td>\n",
       "      <td>41.480000</td>\n",
       "      <td>44.060001</td>\n",
       "      <td>41.250000</td>\n",
       "      <td>43.000000</td>\n",
       "      <td>43.000000</td>\n",
       "      <td>38115500</td>\n",
       "    </tr>\n",
       "  </tbody>\n",
       "</table>\n",
       "</div>"
      ],
      "text/plain": [
       "         Date       Open       High        Low      Close  Adj Close  \\\n",
       "0  2019-05-10  42.000000  45.000000  41.060001  41.570000  41.570000   \n",
       "1  2019-05-13  38.790001  39.240002  36.080002  37.099998  37.099998   \n",
       "2  2019-05-14  38.310001  39.959999  36.849998  39.959999  39.959999   \n",
       "3  2019-05-15  39.369999  41.880001  38.950001  41.290001  41.290001   \n",
       "4  2019-05-16  41.480000  44.060001  41.250000  43.000000  43.000000   \n",
       "\n",
       "      Volume  \n",
       "0  186322500  \n",
       "1   79442400  \n",
       "2   46661100  \n",
       "3   36086100  \n",
       "4   38115500  "
      ]
     },
     "execution_count": 3,
     "metadata": {},
     "output_type": "execute_result"
    }
   ],
   "source": [
    "data = pd.read_csv(\"UBER.csv\")\n",
    "data.head()"
   ]
  },
  {
   "cell_type": "code",
   "execution_count": 4,
   "id": "documented-conviction",
   "metadata": {},
   "outputs": [
    {
     "name": "stdout",
     "output_type": "stream",
     "text": [
      "<class 'pandas.core.frame.DataFrame'>\n",
      "RangeIndex: 605 entries, 0 to 604\n",
      "Data columns (total 7 columns):\n",
      " #   Column     Non-Null Count  Dtype  \n",
      "---  ------     --------------  -----  \n",
      " 0   Date       605 non-null    object \n",
      " 1   Open       605 non-null    float64\n",
      " 2   High       605 non-null    float64\n",
      " 3   Low        605 non-null    float64\n",
      " 4   Close      605 non-null    float64\n",
      " 5   Adj Close  605 non-null    float64\n",
      " 6   Volume     605 non-null    int64  \n",
      "dtypes: float64(5), int64(1), object(1)\n",
      "memory usage: 33.2+ KB\n"
     ]
    }
   ],
   "source": [
    "data.info()"
   ]
  },
  {
   "cell_type": "code",
   "execution_count": 5,
   "id": "third-jamaica",
   "metadata": {},
   "outputs": [
    {
     "data": {
      "text/html": [
       "<div>\n",
       "<style scoped>\n",
       "    .dataframe tbody tr th:only-of-type {\n",
       "        vertical-align: middle;\n",
       "    }\n",
       "\n",
       "    .dataframe tbody tr th {\n",
       "        vertical-align: top;\n",
       "    }\n",
       "\n",
       "    .dataframe thead th {\n",
       "        text-align: right;\n",
       "    }\n",
       "</style>\n",
       "<table border=\"1\" class=\"dataframe\">\n",
       "  <thead>\n",
       "    <tr style=\"text-align: right;\">\n",
       "      <th></th>\n",
       "      <th>Open</th>\n",
       "      <th>High</th>\n",
       "      <th>Low</th>\n",
       "      <th>Close</th>\n",
       "      <th>Adj Close</th>\n",
       "      <th>Volume</th>\n",
       "    </tr>\n",
       "  </thead>\n",
       "  <tbody>\n",
       "    <tr>\n",
       "      <th>count</th>\n",
       "      <td>605.000000</td>\n",
       "      <td>605.000000</td>\n",
       "      <td>605.000000</td>\n",
       "      <td>605.000000</td>\n",
       "      <td>605.000000</td>\n",
       "      <td>6.050000e+02</td>\n",
       "    </tr>\n",
       "    <tr>\n",
       "      <th>mean</th>\n",
       "      <td>40.237056</td>\n",
       "      <td>41.010066</td>\n",
       "      <td>39.353188</td>\n",
       "      <td>40.189917</td>\n",
       "      <td>40.189917</td>\n",
       "      <td>2.357439e+07</td>\n",
       "    </tr>\n",
       "    <tr>\n",
       "      <th>std</th>\n",
       "      <td>9.796123</td>\n",
       "      <td>9.878262</td>\n",
       "      <td>9.649565</td>\n",
       "      <td>9.737607</td>\n",
       "      <td>9.737607</td>\n",
       "      <td>1.727050e+07</td>\n",
       "    </tr>\n",
       "    <tr>\n",
       "      <th>min</th>\n",
       "      <td>15.960000</td>\n",
       "      <td>17.799999</td>\n",
       "      <td>13.710000</td>\n",
       "      <td>14.820000</td>\n",
       "      <td>14.820000</td>\n",
       "      <td>3.380000e+06</td>\n",
       "    </tr>\n",
       "    <tr>\n",
       "      <th>25%</th>\n",
       "      <td>32.369999</td>\n",
       "      <td>33.020000</td>\n",
       "      <td>31.450001</td>\n",
       "      <td>32.470001</td>\n",
       "      <td>32.470001</td>\n",
       "      <td>1.352820e+07</td>\n",
       "    </tr>\n",
       "    <tr>\n",
       "      <th>50%</th>\n",
       "      <td>38.880001</td>\n",
       "      <td>39.240002</td>\n",
       "      <td>37.389999</td>\n",
       "      <td>38.480000</td>\n",
       "      <td>38.480000</td>\n",
       "      <td>1.922350e+07</td>\n",
       "    </tr>\n",
       "    <tr>\n",
       "      <th>75%</th>\n",
       "      <td>48.490002</td>\n",
       "      <td>49.619999</td>\n",
       "      <td>47.750000</td>\n",
       "      <td>48.410000</td>\n",
       "      <td>48.410000</td>\n",
       "      <td>2.860960e+07</td>\n",
       "    </tr>\n",
       "    <tr>\n",
       "      <th>max</th>\n",
       "      <td>63.250000</td>\n",
       "      <td>64.050003</td>\n",
       "      <td>60.799999</td>\n",
       "      <td>63.180000</td>\n",
       "      <td>63.180000</td>\n",
       "      <td>1.863225e+08</td>\n",
       "    </tr>\n",
       "  </tbody>\n",
       "</table>\n",
       "</div>"
      ],
      "text/plain": [
       "             Open        High         Low       Close   Adj Close  \\\n",
       "count  605.000000  605.000000  605.000000  605.000000  605.000000   \n",
       "mean    40.237056   41.010066   39.353188   40.189917   40.189917   \n",
       "std      9.796123    9.878262    9.649565    9.737607    9.737607   \n",
       "min     15.960000   17.799999   13.710000   14.820000   14.820000   \n",
       "25%     32.369999   33.020000   31.450001   32.470001   32.470001   \n",
       "50%     38.880001   39.240002   37.389999   38.480000   38.480000   \n",
       "75%     48.490002   49.619999   47.750000   48.410000   48.410000   \n",
       "max     63.250000   64.050003   60.799999   63.180000   63.180000   \n",
       "\n",
       "             Volume  \n",
       "count  6.050000e+02  \n",
       "mean   2.357439e+07  \n",
       "std    1.727050e+07  \n",
       "min    3.380000e+06  \n",
       "25%    1.352820e+07  \n",
       "50%    1.922350e+07  \n",
       "75%    2.860960e+07  \n",
       "max    1.863225e+08  "
      ]
     },
     "execution_count": 5,
     "metadata": {},
     "output_type": "execute_result"
    }
   ],
   "source": [
    "data.describe()"
   ]
  },
  {
   "cell_type": "code",
   "execution_count": 6,
   "id": "finished-endorsement",
   "metadata": {},
   "outputs": [
    {
     "data": {
      "text/plain": [
       "<matplotlib.axes._subplots.AxesSubplot at 0x178c594f3d0>"
      ]
     },
     "execution_count": 6,
     "metadata": {},
     "output_type": "execute_result"
    },
    {
     "data": {
      "image/png": "[encoded data removed]",
      "text/plain": [
       "<Figure size 432x288 with 1 Axes>"
      ]
     },
     "metadata": {
      "needs_background": "light"
     },
     "output_type": "display_data"
    }
   ],
   "source": [
    "data2 = data.copy()\n",
    "data2.iloc[1:50,data2.columns.get_loc('Volume')] = None\n",
    "\n",
    "sns.heatmap(data2.isnull(),cbar=False,cmap = 'viridis') # to check null values"
   ]
  },
  {
   "cell_type": "code",
   "execution_count": 7,
   "id": "following-design",
   "metadata": {},
   "outputs": [
    {
     "data": {
      "text/plain": [
       "<matplotlib.axes._subplots.AxesSubplot at 0x178c79e3b20>"
      ]
     },
     "execution_count": 7,
     "metadata": {},
     "output_type": "execute_result"
    },
    {
     "data": {
      "image/png": "[encoded data removed]",
      "text/plain": [
       "<Figure size 504x360 with 2 Axes>"
      ]
     },
     "metadata": {
      "needs_background": "light"
     },
     "output_type": "display_data"
    }
   ],
   "source": [
    "# correlation matrix \n",
    "plt.figure(figsize=(7,5))\n",
    "sns.heatmap(data.corr(),cmap='Blues',annot=True) "
   ]
  },
  {
   "cell_type": "code",
   "execution_count": 8,
   "id": "worldwide-error",
   "metadata": {},
   "outputs": [],
   "source": [
    "# How does the difference between opening and high value affects the trading volume\n",
    "# Does the difference between opening and low value affects the trading volume\n",
    "# Is the trading volume any different in the start of the week compared to other days\n",
    "# How much % of times does the closing value close to low and high prices\n",
    "# Is there any consecutiveness in the stocks closing price"
   ]
  },
  {
   "cell_type": "code",
   "execution_count": 9,
   "id": "persistent-metro",
   "metadata": {},
   "outputs": [
    {
     "data": {
      "text/html": [
       "<div>\n",
       "<style scoped>\n",
       "    .dataframe tbody tr th:only-of-type {\n",
       "        vertical-align: middle;\n",
       "    }\n",
       "\n",
       "    .dataframe tbody tr th {\n",
       "        vertical-align: top;\n",
       "    }\n",
       "\n",
       "    .dataframe thead th {\n",
       "        text-align: right;\n",
       "    }\n",
       "</style>\n",
       "<table border=\"1\" class=\"dataframe\">\n",
       "  <thead>\n",
       "    <tr style=\"text-align: right;\">\n",
       "      <th></th>\n",
       "      <th>Date</th>\n",
       "      <th>Open</th>\n",
       "      <th>High</th>\n",
       "      <th>Low</th>\n",
       "      <th>Close</th>\n",
       "      <th>Adj Close</th>\n",
       "      <th>Volume</th>\n",
       "      <th>open-high</th>\n",
       "      <th>open-low</th>\n",
       "      <th>close-high</th>\n",
       "      <th>close-low</th>\n",
       "      <th>high-low</th>\n",
       "      <th>open-close</th>\n",
       "    </tr>\n",
       "  </thead>\n",
       "  <tbody>\n",
       "    <tr>\n",
       "      <th>0</th>\n",
       "      <td>2019-05-10</td>\n",
       "      <td>42.000000</td>\n",
       "      <td>45.000000</td>\n",
       "      <td>41.060001</td>\n",
       "      <td>41.570000</td>\n",
       "      <td>41.570000</td>\n",
       "      <td>186322500</td>\n",
       "      <td>-3.000000</td>\n",
       "      <td>0.939999</td>\n",
       "      <td>-3.430000</td>\n",
       "      <td>0.509999</td>\n",
       "      <td>3.939999</td>\n",
       "      <td>0.430000</td>\n",
       "    </tr>\n",
       "    <tr>\n",
       "      <th>1</th>\n",
       "      <td>2019-05-13</td>\n",
       "      <td>38.790001</td>\n",
       "      <td>39.240002</td>\n",
       "      <td>36.080002</td>\n",
       "      <td>37.099998</td>\n",
       "      <td>37.099998</td>\n",
       "      <td>79442400</td>\n",
       "      <td>-0.450001</td>\n",
       "      <td>2.709999</td>\n",
       "      <td>-2.140004</td>\n",
       "      <td>1.019996</td>\n",
       "      <td>3.160000</td>\n",
       "      <td>1.690003</td>\n",
       "    </tr>\n",
       "    <tr>\n",
       "      <th>2</th>\n",
       "      <td>2019-05-14</td>\n",
       "      <td>38.310001</td>\n",
       "      <td>39.959999</td>\n",
       "      <td>36.849998</td>\n",
       "      <td>39.959999</td>\n",
       "      <td>39.959999</td>\n",
       "      <td>46661100</td>\n",
       "      <td>-1.649998</td>\n",
       "      <td>1.460003</td>\n",
       "      <td>0.000000</td>\n",
       "      <td>3.110001</td>\n",
       "      <td>3.110001</td>\n",
       "      <td>-1.649998</td>\n",
       "    </tr>\n",
       "    <tr>\n",
       "      <th>3</th>\n",
       "      <td>2019-05-15</td>\n",
       "      <td>39.369999</td>\n",
       "      <td>41.880001</td>\n",
       "      <td>38.950001</td>\n",
       "      <td>41.290001</td>\n",
       "      <td>41.290001</td>\n",
       "      <td>36086100</td>\n",
       "      <td>-2.510002</td>\n",
       "      <td>0.419998</td>\n",
       "      <td>-0.590000</td>\n",
       "      <td>2.340000</td>\n",
       "      <td>2.930000</td>\n",
       "      <td>-1.920002</td>\n",
       "    </tr>\n",
       "    <tr>\n",
       "      <th>4</th>\n",
       "      <td>2019-05-16</td>\n",
       "      <td>41.480000</td>\n",
       "      <td>44.060001</td>\n",
       "      <td>41.250000</td>\n",
       "      <td>43.000000</td>\n",
       "      <td>43.000000</td>\n",
       "      <td>38115500</td>\n",
       "      <td>-2.580001</td>\n",
       "      <td>0.230000</td>\n",
       "      <td>-1.060001</td>\n",
       "      <td>1.750000</td>\n",
       "      <td>2.810001</td>\n",
       "      <td>-1.520000</td>\n",
       "    </tr>\n",
       "  </tbody>\n",
       "</table>\n",
       "</div>"
      ],
      "text/plain": [
       "         Date       Open       High        Low      Close  Adj Close  \\\n",
       "0  2019-05-10  42.000000  45.000000  41.060001  41.570000  41.570000   \n",
       "1  2019-05-13  38.790001  39.240002  36.080002  37.099998  37.099998   \n",
       "2  2019-05-14  38.310001  39.959999  36.849998  39.959999  39.959999   \n",
       "3  2019-05-15  39.369999  41.880001  38.950001  41.290001  41.290001   \n",
       "4  2019-05-16  41.480000  44.060001  41.250000  43.000000  43.000000   \n",
       "\n",
       "      Volume  open-high  open-low  close-high  close-low  high-low  open-close  \n",
       "0  186322500  -3.000000  0.939999   -3.430000   0.509999  3.939999    0.430000  \n",
       "1   79442400  -0.450001  2.709999   -2.140004   1.019996  3.160000    1.690003  \n",
       "2   46661100  -1.649998  1.460003    0.000000   3.110001  3.110001   -1.649998  \n",
       "3   36086100  -2.510002  0.419998   -0.590000   2.340000  2.930000   -1.920002  \n",
       "4   38115500  -2.580001  0.230000   -1.060001   1.750000  2.810001   -1.520000  "
      ]
     },
     "execution_count": 9,
     "metadata": {},
     "output_type": "execute_result"
    }
   ],
   "source": [
    "data['open-high'] = data['Open']-data['High']\n",
    "data['open-low'] = data['Open'] - data['Low']\n",
    "data['close-high'] = data['Close']-data['High']\n",
    "data['close-low'] = data['Close'] - data['Low']\n",
    "data['high-low'] = data['High'] - data['Low']\n",
    "data['open-close'] = data['Open'] - data['Close']\n",
    "data.head()"
   ]
  },
  {
   "cell_type": "code",
   "execution_count": 10,
   "id": "demanding-phrase",
   "metadata": {},
   "outputs": [
    {
     "data": {
      "text/plain": [
       "<matplotlib.axes._subplots.AxesSubplot at 0x178c7b15250>"
      ]
     },
     "execution_count": 10,
     "metadata": {},
     "output_type": "execute_result"
    },
    {
     "data": {
      "image/png": "[encoded data removed]",
      "text/plain": [
       "<Figure size 504x360 with 2 Axes>"
      ]
     },
     "metadata": {
      "needs_background": "light"
     },
     "output_type": "display_data"
    }
   ],
   "source": [
    "data2 = data.copy()\n",
    "data2 = data2.drop(['Open','High','Low','Close', 'Adj Close'],axis=1)\n",
    "plt.figure(figsize=(7,5))\n",
    "sns.heatmap(data2.corr(),cmap='Blues',annot=True) "
   ]
  },
  {
   "cell_type": "code",
   "execution_count": 17,
   "id": "coated-defense",
   "metadata": {},
   "outputs": [
    {
     "data": {
      "text/plain": [
       "<matplotlib.axes._subplots.AxesSubplot at 0x178caeab490>"
      ]
     },
     "execution_count": 17,
     "metadata": {},
     "output_type": "execute_result"
    },
    {
     "data": {
      "image/png": "[encoded data removed]",
      "text/plain": [
       "<Figure size 432x288 with 1 Axes>"
      ]
     },
     "metadata": {
      "needs_background": "light"
     },
     "output_type": "display_data"
    }
   ],
   "source": [
    "# sns.set_theme(style = 'whitegrid')\n",
    "# f,ax = plt.subplots(figsize = (7,7))\n",
    "# sns.despine(f, left=True,bottom=True)\n",
    "\n",
    "# ax = sns.scatterplot(x=data['Volume'],y=data[\"open-low\"])\n",
    "sns.barplot(data=data, x = \"high-low\", y=\"Volume\")\n",
    "# sns.lineplot(data['high-low'], data['Volume'])\n",
    "# sns.regplot(data['high-low'], data['Volume'])"
   ]
  },
  {
   "cell_type": "code",
   "execution_count": 18,
   "id": "herbal-variance",
   "metadata": {},
   "outputs": [
    {
     "data": {
      "text/plain": [
       "<matplotlib.axes._subplots.AxesSubplot at 0x178cbd75730>"
      ]
     },
     "execution_count": 18,
     "metadata": {},
     "output_type": "execute_result"
    },
    {
     "data": {
      "image/png": "[encoded data removed]",
      "text/plain": [
       "<Figure size 432x288 with 1 Axes>"
      ]
     },
     "metadata": {
      "needs_background": "light"
     },
     "output_type": "display_data"
    }
   ],
   "source": [
    "sns.barplot(data=data, x = \"open-high\", y=\"Volume\")"
   ]
  },
  {
   "cell_type": "code",
   "execution_count": 60,
   "id": "backed-democracy",
   "metadata": {},
   "outputs": [
    {
     "data": {
      "text/plain": [
       "-1    305\n",
       " 1    295\n",
       " 0      5\n",
       "Name: inc-dec, dtype: int64"
      ]
     },
     "execution_count": 60,
     "metadata": {},
     "output_type": "execute_result"
    }
   ],
   "source": [
    "# 44444444444\n",
    "l = len(data)\n",
    "data['inc-dec'] = 0\n",
    "for i in range(1,l):\n",
    "    if data.iloc[i]['Close']-data.iloc[i-1]['Close']>0:\n",
    "        data.iloc[i, data.columns.get_loc('inc-dec')] = 1\n",
    "        \n",
    "    if data.iloc[i]['Close']-data.iloc[i-1]['Close']<0:\n",
    "        data.iloc[i, data.columns.get_loc('inc-dec')] = -1\n",
    "data['inc-dec'].value_counts()"
   ]
  },
  {
   "cell_type": "code",
   "execution_count": null,
   "id": "impossible-procurement",
   "metadata": {},
   "outputs": [],
   "source": [
    "data.nunique()"
   ]
  },
  {
   "cell_type": "code",
   "execution_count": null,
   "id": "vanilla-massachusetts",
   "metadata": {},
   "outputs": [],
   "source": [
    "data.head()"
   ]
  },
  {
   "cell_type": "code",
   "execution_count": null,
   "id": "eleven-integer",
   "metadata": {},
   "outputs": [],
   "source": [
    "data.describe()"
   ]
  },
  {
   "cell_type": "code",
   "execution_count": null,
   "id": "waiting-promotion",
   "metadata": {},
   "outputs": [],
   "source": [
    "sns.kdeplot(x=data['open-high'],y=data['Volume'])"
   ]
  },
  {
   "cell_type": "code",
   "execution_count": null,
   "id": "sustainable-strip",
   "metadata": {},
   "outputs": [],
   "source": [
    "# sns.pairplot(data, hue=\"open-high\",size=2.5)\n",
    "# x =data['Volume'].sort_values(ascending=False)\n",
    "data[data['Volume']==1.863225e+08\t]"
   ]
  },
  {
   "cell_type": "code",
   "execution_count": null,
   "id": "direct-conditions",
   "metadata": {},
   "outputs": [],
   "source": []
  }
 ],
 "metadata": {
  "kernelspec": {
   "display_name": "Python 3",
   "language": "python",
   "name": "python3"
  },
  "language_info": {
   "codemirror_mode": {
    "name": "ipython",
    "version": 3
   },
   "file_extension": ".py",
   "mimetype": "text/x-python",
   "name": "python",
   "nbconvert_exporter": "python",
   "pygments_lexer": "ipython3",
   "version": "3.8.6rc1"
  }
 },
 "nbformat": 4,
 "nbformat_minor": 5
}
