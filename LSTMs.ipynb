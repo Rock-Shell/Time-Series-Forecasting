{
 "cells": [
  {
   "cell_type": "code",
   "execution_count": 1,
   "id": "fantastic-ontario",
   "metadata": {},
   "outputs": [],
   "source": [
    "import pandas as pd\n",
    "import numpy as np\n",
    "import matplotlib.pyplot as plt"
   ]
  },
  {
   "cell_type": "code",
   "execution_count": 2,
   "id": "controlling-microwave",
   "metadata": {},
   "outputs": [
    {
     "data": {
      "text/html": [
       "<div>\n",
       "<style scoped>\n",
       "    .dataframe tbody tr th:only-of-type {\n",
       "        vertical-align: middle;\n",
       "    }\n",
       "\n",
       "    .dataframe tbody tr th {\n",
       "        vertical-align: top;\n",
       "    }\n",
       "\n",
       "    .dataframe thead th {\n",
       "        text-align: right;\n",
       "    }\n",
       "</style>\n",
       "<table border=\"1\" class=\"dataframe\">\n",
       "  <thead>\n",
       "    <tr style=\"text-align: right;\">\n",
       "      <th></th>\n",
       "      <th>Open</th>\n",
       "      <th>High</th>\n",
       "      <th>Low</th>\n",
       "      <th>Close</th>\n",
       "      <th>Adj Close</th>\n",
       "      <th>Volume</th>\n",
       "    </tr>\n",
       "    <tr>\n",
       "      <th>Date</th>\n",
       "      <th></th>\n",
       "      <th></th>\n",
       "      <th></th>\n",
       "      <th></th>\n",
       "      <th></th>\n",
       "      <th></th>\n",
       "    </tr>\n",
       "  </thead>\n",
       "  <tbody>\n",
       "    <tr>\n",
       "      <th>2019-05-10</th>\n",
       "      <td>42.000000</td>\n",
       "      <td>45.000000</td>\n",
       "      <td>41.060001</td>\n",
       "      <td>41.570000</td>\n",
       "      <td>41.570000</td>\n",
       "      <td>186322500</td>\n",
       "    </tr>\n",
       "    <tr>\n",
       "      <th>2019-05-13</th>\n",
       "      <td>38.790001</td>\n",
       "      <td>39.240002</td>\n",
       "      <td>36.080002</td>\n",
       "      <td>37.099998</td>\n",
       "      <td>37.099998</td>\n",
       "      <td>79442400</td>\n",
       "    </tr>\n",
       "    <tr>\n",
       "      <th>2019-05-14</th>\n",
       "      <td>38.310001</td>\n",
       "      <td>39.959999</td>\n",
       "      <td>36.849998</td>\n",
       "      <td>39.959999</td>\n",
       "      <td>39.959999</td>\n",
       "      <td>46661100</td>\n",
       "    </tr>\n",
       "    <tr>\n",
       "      <th>2019-05-15</th>\n",
       "      <td>39.369999</td>\n",
       "      <td>41.880001</td>\n",
       "      <td>38.950001</td>\n",
       "      <td>41.290001</td>\n",
       "      <td>41.290001</td>\n",
       "      <td>36086100</td>\n",
       "    </tr>\n",
       "    <tr>\n",
       "      <th>2019-05-16</th>\n",
       "      <td>41.480000</td>\n",
       "      <td>44.060001</td>\n",
       "      <td>41.250000</td>\n",
       "      <td>43.000000</td>\n",
       "      <td>43.000000</td>\n",
       "      <td>38115500</td>\n",
       "    </tr>\n",
       "  </tbody>\n",
       "</table>\n",
       "</div>"
      ],
      "text/plain": [
       "                 Open       High        Low      Close  Adj Close     Volume\n",
       "Date                                                                        \n",
       "2019-05-10  42.000000  45.000000  41.060001  41.570000  41.570000  186322500\n",
       "2019-05-13  38.790001  39.240002  36.080002  37.099998  37.099998   79442400\n",
       "2019-05-14  38.310001  39.959999  36.849998  39.959999  39.959999   46661100\n",
       "2019-05-15  39.369999  41.880001  38.950001  41.290001  41.290001   36086100\n",
       "2019-05-16  41.480000  44.060001  41.250000  43.000000  43.000000   38115500"
      ]
     },
     "execution_count": 2,
     "metadata": {},
     "output_type": "execute_result"
    }
   ],
   "source": [
    "data = pd.read_csv(\"UBER.csv\", index_col=\"Date\", parse_dates=True)\n",
    "data.head()"
   ]
  },
  {
   "cell_type": "code",
   "execution_count": 3,
   "id": "intellectual-germany",
   "metadata": {},
   "outputs": [
    {
     "data": {
      "text/html": [
       "<div>\n",
       "<style scoped>\n",
       "    .dataframe tbody tr th:only-of-type {\n",
       "        vertical-align: middle;\n",
       "    }\n",
       "\n",
       "    .dataframe tbody tr th {\n",
       "        vertical-align: top;\n",
       "    }\n",
       "\n",
       "    .dataframe thead th {\n",
       "        text-align: right;\n",
       "    }\n",
       "</style>\n",
       "<table border=\"1\" class=\"dataframe\">\n",
       "  <thead>\n",
       "    <tr style=\"text-align: right;\">\n",
       "      <th></th>\n",
       "      <th>Open</th>\n",
       "      <th>Volume</th>\n",
       "      <th>High-Open</th>\n",
       "      <th>Open-Low</th>\n",
       "      <th>Open-Close</th>\n",
       "    </tr>\n",
       "    <tr>\n",
       "      <th>Date</th>\n",
       "      <th></th>\n",
       "      <th></th>\n",
       "      <th></th>\n",
       "      <th></th>\n",
       "      <th></th>\n",
       "    </tr>\n",
       "  </thead>\n",
       "  <tbody>\n",
       "    <tr>\n",
       "      <th>2019-05-10</th>\n",
       "      <td>42.000000</td>\n",
       "      <td>186322500</td>\n",
       "      <td>3.000000</td>\n",
       "      <td>0.939999</td>\n",
       "      <td>0.430000</td>\n",
       "    </tr>\n",
       "    <tr>\n",
       "      <th>2019-05-13</th>\n",
       "      <td>38.790001</td>\n",
       "      <td>79442400</td>\n",
       "      <td>0.450001</td>\n",
       "      <td>2.709999</td>\n",
       "      <td>1.690003</td>\n",
       "    </tr>\n",
       "    <tr>\n",
       "      <th>2019-05-14</th>\n",
       "      <td>38.310001</td>\n",
       "      <td>46661100</td>\n",
       "      <td>1.649998</td>\n",
       "      <td>1.460003</td>\n",
       "      <td>-1.649998</td>\n",
       "    </tr>\n",
       "    <tr>\n",
       "      <th>2019-05-15</th>\n",
       "      <td>39.369999</td>\n",
       "      <td>36086100</td>\n",
       "      <td>2.510002</td>\n",
       "      <td>0.419998</td>\n",
       "      <td>-1.920002</td>\n",
       "    </tr>\n",
       "    <tr>\n",
       "      <th>2019-05-16</th>\n",
       "      <td>41.480000</td>\n",
       "      <td>38115500</td>\n",
       "      <td>2.580001</td>\n",
       "      <td>0.230000</td>\n",
       "      <td>-1.520000</td>\n",
       "    </tr>\n",
       "  </tbody>\n",
       "</table>\n",
       "</div>"
      ],
      "text/plain": [
       "                 Open     Volume  High-Open  Open-Low  Open-Close\n",
       "Date                                                             \n",
       "2019-05-10  42.000000  186322500   3.000000  0.939999    0.430000\n",
       "2019-05-13  38.790001   79442400   0.450001  2.709999    1.690003\n",
       "2019-05-14  38.310001   46661100   1.649998  1.460003   -1.649998\n",
       "2019-05-15  39.369999   36086100   2.510002  0.419998   -1.920002\n",
       "2019-05-16  41.480000   38115500   2.580001  0.230000   -1.520000"
      ]
     },
     "execution_count": 3,
     "metadata": {},
     "output_type": "execute_result"
    }
   ],
   "source": [
    "data2 = data.copy()\n",
    "data2['High-Open'] = data2['High']-data2['Open']\n",
    "data2['Open-Low'] = data2['Open']-data2['Low']\n",
    "data2['Open-Close'] = data2['Open']-data2['Close']\n",
    "data2 = data2.drop(['Close', 'High', 'Low','Adj Close'],axis=1)\n",
    "data2.head()"
   ]
  },
  {
   "cell_type": "code",
   "execution_count": 4,
   "id": "outside-boulder",
   "metadata": {},
   "outputs": [
    {
     "data": {
      "text/html": [
       "<style  type=\"text/css\" >\n",
       "#T_b8493eb6_8831_11ec_ad1b_28b2bd3c15a8row0_col0,#T_b8493eb6_8831_11ec_ad1b_28b2bd3c15a8row1_col1,#T_b8493eb6_8831_11ec_ad1b_28b2bd3c15a8row2_col2,#T_b8493eb6_8831_11ec_ad1b_28b2bd3c15a8row3_col3,#T_b8493eb6_8831_11ec_ad1b_28b2bd3c15a8row4_col4{\n",
       "            background-color:  #b40426;\n",
       "            color:  #f1f1f1;\n",
       "        }#T_b8493eb6_8831_11ec_ad1b_28b2bd3c15a8row0_col1,#T_b8493eb6_8831_11ec_ad1b_28b2bd3c15a8row1_col0,#T_b8493eb6_8831_11ec_ad1b_28b2bd3c15a8row2_col3,#T_b8493eb6_8831_11ec_ad1b_28b2bd3c15a8row2_col4,#T_b8493eb6_8831_11ec_ad1b_28b2bd3c15a8row4_col2{\n",
       "            background-color:  #3b4cc0;\n",
       "            color:  #f1f1f1;\n",
       "        }#T_b8493eb6_8831_11ec_ad1b_28b2bd3c15a8row0_col2{\n",
       "            background-color:  #d5dbe5;\n",
       "            color:  #000000;\n",
       "        }#T_b8493eb6_8831_11ec_ad1b_28b2bd3c15a8row0_col3{\n",
       "            background-color:  #cbd8ee;\n",
       "            color:  #000000;\n",
       "        }#T_b8493eb6_8831_11ec_ad1b_28b2bd3c15a8row0_col4{\n",
       "            background-color:  #dadce0;\n",
       "            color:  #000000;\n",
       "        }#T_b8493eb6_8831_11ec_ad1b_28b2bd3c15a8row1_col2{\n",
       "            background-color:  #f5c1a9;\n",
       "            color:  #000000;\n",
       "        }#T_b8493eb6_8831_11ec_ad1b_28b2bd3c15a8row1_col3{\n",
       "            background-color:  #b9d0f9;\n",
       "            color:  #000000;\n",
       "        }#T_b8493eb6_8831_11ec_ad1b_28b2bd3c15a8row1_col4{\n",
       "            background-color:  #b7cff9;\n",
       "            color:  #000000;\n",
       "        }#T_b8493eb6_8831_11ec_ad1b_28b2bd3c15a8row2_col0{\n",
       "            background-color:  #88abfd;\n",
       "            color:  #000000;\n",
       "        }#T_b8493eb6_8831_11ec_ad1b_28b2bd3c15a8row2_col1{\n",
       "            background-color:  #d6dce4;\n",
       "            color:  #000000;\n",
       "        }#T_b8493eb6_8831_11ec_ad1b_28b2bd3c15a8row3_col0{\n",
       "            background-color:  #b5cdfa;\n",
       "            color:  #000000;\n",
       "        }#T_b8493eb6_8831_11ec_ad1b_28b2bd3c15a8row3_col1{\n",
       "            background-color:  #9fbfff;\n",
       "            color:  #000000;\n",
       "        }#T_b8493eb6_8831_11ec_ad1b_28b2bd3c15a8row3_col2{\n",
       "            background-color:  #82a6fb;\n",
       "            color:  #000000;\n",
       "        }#T_b8493eb6_8831_11ec_ad1b_28b2bd3c15a8row3_col4{\n",
       "            background-color:  #e67259;\n",
       "            color:  #000000;\n",
       "        }#T_b8493eb6_8831_11ec_ad1b_28b2bd3c15a8row4_col0{\n",
       "            background-color:  #92b4fe;\n",
       "            color:  #000000;\n",
       "        }#T_b8493eb6_8831_11ec_ad1b_28b2bd3c15a8row4_col1{\n",
       "            background-color:  #5875e1;\n",
       "            color:  #000000;\n",
       "        }#T_b8493eb6_8831_11ec_ad1b_28b2bd3c15a8row4_col3{\n",
       "            background-color:  #ef886b;\n",
       "            color:  #000000;\n",
       "        }</style><table id=\"T_b8493eb6_8831_11ec_ad1b_28b2bd3c15a8\" ><thead>    <tr>        <th class=\"blank level0\" ></th>        <th class=\"col_heading level0 col0\" >Open</th>        <th class=\"col_heading level0 col1\" >Volume</th>        <th class=\"col_heading level0 col2\" >High-Open</th>        <th class=\"col_heading level0 col3\" >Open-Low</th>        <th class=\"col_heading level0 col4\" >Open-Close</th>    </tr></thead><tbody>\n",
       "                <tr>\n",
       "                        <th id=\"T_b8493eb6_8831_11ec_ad1b_28b2bd3c15a8level0_row0\" class=\"row_heading level0 row0\" >Open</th>\n",
       "                        <td id=\"T_b8493eb6_8831_11ec_ad1b_28b2bd3c15a8row0_col0\" class=\"data row0 col0\" >1.000000</td>\n",
       "                        <td id=\"T_b8493eb6_8831_11ec_ad1b_28b2bd3c15a8row0_col1\" class=\"data row0 col1\" >-0.212582</td>\n",
       "                        <td id=\"T_b8493eb6_8831_11ec_ad1b_28b2bd3c15a8row0_col2\" class=\"data row0 col2\" >0.073984</td>\n",
       "                        <td id=\"T_b8493eb6_8831_11ec_ad1b_28b2bd3c15a8row0_col3\" class=\"data row0 col3\" >0.231944</td>\n",
       "                        <td id=\"T_b8493eb6_8831_11ec_ad1b_28b2bd3c15a8row0_col4\" class=\"data row0 col4\" >0.109154</td>\n",
       "            </tr>\n",
       "            <tr>\n",
       "                        <th id=\"T_b8493eb6_8831_11ec_ad1b_28b2bd3c15a8level0_row1\" class=\"row_heading level0 row1\" >Volume</th>\n",
       "                        <td id=\"T_b8493eb6_8831_11ec_ad1b_28b2bd3c15a8row1_col0\" class=\"data row1 col0\" >-0.212582</td>\n",
       "                        <td id=\"T_b8493eb6_8831_11ec_ad1b_28b2bd3c15a8row1_col1\" class=\"data row1 col1\" >1.000000</td>\n",
       "                        <td id=\"T_b8493eb6_8831_11ec_ad1b_28b2bd3c15a8row1_col2\" class=\"data row1 col2\" >0.361729</td>\n",
       "                        <td id=\"T_b8493eb6_8831_11ec_ad1b_28b2bd3c15a8row1_col3\" class=\"data row1 col3\" >0.154924</td>\n",
       "                        <td id=\"T_b8493eb6_8831_11ec_ad1b_28b2bd3c15a8row1_col4\" class=\"data row1 col4\" >-0.094651</td>\n",
       "            </tr>\n",
       "            <tr>\n",
       "                        <th id=\"T_b8493eb6_8831_11ec_ad1b_28b2bd3c15a8level0_row2\" class=\"row_heading level0 row2\" >High-Open</th>\n",
       "                        <td id=\"T_b8493eb6_8831_11ec_ad1b_28b2bd3c15a8row2_col0\" class=\"data row2 col0\" >0.073984</td>\n",
       "                        <td id=\"T_b8493eb6_8831_11ec_ad1b_28b2bd3c15a8row2_col1\" class=\"data row2 col1\" >0.361729</td>\n",
       "                        <td id=\"T_b8493eb6_8831_11ec_ad1b_28b2bd3c15a8row2_col2\" class=\"data row2 col2\" >1.000000</td>\n",
       "                        <td id=\"T_b8493eb6_8831_11ec_ad1b_28b2bd3c15a8row2_col3\" class=\"data row2 col3\" >-0.356857</td>\n",
       "                        <td id=\"T_b8493eb6_8831_11ec_ad1b_28b2bd3c15a8row2_col4\" class=\"data row2 col4\" >-0.744248</td>\n",
       "            </tr>\n",
       "            <tr>\n",
       "                        <th id=\"T_b8493eb6_8831_11ec_ad1b_28b2bd3c15a8level0_row3\" class=\"row_heading level0 row3\" >Open-Low</th>\n",
       "                        <td id=\"T_b8493eb6_8831_11ec_ad1b_28b2bd3c15a8row3_col0\" class=\"data row3 col0\" >0.231944</td>\n",
       "                        <td id=\"T_b8493eb6_8831_11ec_ad1b_28b2bd3c15a8row3_col1\" class=\"data row3 col1\" >0.154924</td>\n",
       "                        <td id=\"T_b8493eb6_8831_11ec_ad1b_28b2bd3c15a8row3_col2\" class=\"data row3 col2\" >-0.356857</td>\n",
       "                        <td id=\"T_b8493eb6_8831_11ec_ad1b_28b2bd3c15a8row3_col3\" class=\"data row3 col3\" >1.000000</td>\n",
       "                        <td id=\"T_b8493eb6_8831_11ec_ad1b_28b2bd3c15a8row3_col4\" class=\"data row3 col4\" >0.719041</td>\n",
       "            </tr>\n",
       "            <tr>\n",
       "                        <th id=\"T_b8493eb6_8831_11ec_ad1b_28b2bd3c15a8level0_row4\" class=\"row_heading level0 row4\" >Open-Close</th>\n",
       "                        <td id=\"T_b8493eb6_8831_11ec_ad1b_28b2bd3c15a8row4_col0\" class=\"data row4 col0\" >0.109154</td>\n",
       "                        <td id=\"T_b8493eb6_8831_11ec_ad1b_28b2bd3c15a8row4_col1\" class=\"data row4 col1\" >-0.094651</td>\n",
       "                        <td id=\"T_b8493eb6_8831_11ec_ad1b_28b2bd3c15a8row4_col2\" class=\"data row4 col2\" >-0.744248</td>\n",
       "                        <td id=\"T_b8493eb6_8831_11ec_ad1b_28b2bd3c15a8row4_col3\" class=\"data row4 col3\" >0.719041</td>\n",
       "                        <td id=\"T_b8493eb6_8831_11ec_ad1b_28b2bd3c15a8row4_col4\" class=\"data row4 col4\" >1.000000</td>\n",
       "            </tr>\n",
       "    </tbody></table>"
      ],
      "text/plain": [
       "<pandas.io.formats.style.Styler at 0x1131cb10730>"
      ]
     },
     "execution_count": 4,
     "metadata": {},
     "output_type": "execute_result"
    }
   ],
   "source": [
    "corr = data2.corr()\n",
    "corr.style.background_gradient(cmap='coolwarm')"
   ]
  },
  {
   "cell_type": "code",
   "execution_count": 5,
   "id": "knowing-villa",
   "metadata": {},
   "outputs": [
    {
     "data": {
      "text/plain": [
       "Date\n",
       "2019-05-10    186322500\n",
       "2019-05-13     79442400\n",
       "2019-05-14     46661100\n",
       "2019-05-15     36086100\n",
       "2019-05-16     38115500\n",
       "Name: Volume, dtype: int64"
      ]
     },
     "execution_count": 5,
     "metadata": {},
     "output_type": "execute_result"
    }
   ],
   "source": [
    "vol = data['Volume']\n",
    "vol.head()"
   ]
  },
  {
   "cell_type": "code",
   "execution_count": 6,
   "id": "commercial-inside",
   "metadata": {},
   "outputs": [
    {
     "data": {
      "text/plain": [
       "<matplotlib.axes._subplots.AxesSubplot at 0x1131cd97580>"
      ]
     },
     "execution_count": 6,
     "metadata": {},
     "output_type": "execute_result"
    },
    {
     "data": {
      "image/png": "[encoded data removed]",
      "text/plain": [
       "<Figure size 864x432 with 1 Axes>"
      ]
     },
     "metadata": {
      "needs_background": "light"
     },
     "output_type": "display_data"
    }
   ],
   "source": [
    "vol.plot(figsize=(12,6))"
   ]
  },
  {
   "cell_type": "code",
   "execution_count": 66,
   "id": "executive-cancer",
   "metadata": {},
   "outputs": [
    {
     "data": {
      "image/png": "[encoded data removed]",
      "text/plain": [
       "<Figure size 432x288 with 4 Axes>"
      ]
     },
     "metadata": {
      "needs_background": "light"
     },
     "output_type": "display_data"
    }
   ],
   "source": [
    "from statsmodels.tsa.seasonal import seasonal_decompose\n",
    "results = seasonal_decompose(data['Volume'],period=300)\n",
    "results.plot();"
   ]
  },
  {
   "cell_type": "code",
   "execution_count": 45,
   "id": "christian-begin",
   "metadata": {},
   "outputs": [
    {
     "data": {
      "text/plain": [
       "((590, 1), (15, 1))"
      ]
     },
     "execution_count": 45,
     "metadata": {},
     "output_type": "execute_result"
    }
   ],
   "source": [
    "train = data[['Volume']].iloc[:590]\n",
    "test = data[['Volume']].iloc[590:]\n",
    "\n",
    "from sklearn.preprocessing import MinMaxScaler\n",
    "scaler = MinMaxScaler()\n",
    "scaler.fit(train)\n",
    "scaled_train = scaler.transform(train)\n",
    "scaled_test = scaler.transform(test)\n",
    "\n",
    "# scaled_train = scaled[:540]\n",
    "# scaled_test = scaled_[540:]\n",
    "scaled_train.shape, scaled_test.shape"
   ]
  },
  {
   "cell_type": "code",
   "execution_count": 46,
   "id": "acting-visitor",
   "metadata": {},
   "outputs": [
    {
     "data": {
      "text/plain": [
       "array([[1.        ],\n",
       "       [0.41577217],\n",
       "       [0.23658308],\n",
       "       [0.17877803],\n",
       "       [0.18987113],\n",
       "       [0.09208194],\n",
       "       [0.14125914],\n",
       "       [0.04057504],\n",
       "       [0.03120926],\n",
       "       [0.04230783]])"
      ]
     },
     "execution_count": 46,
     "metadata": {},
     "output_type": "execute_result"
    }
   ],
   "source": [
    "scaled_train[:10]"
   ]
  },
  {
   "cell_type": "code",
   "execution_count": 47,
   "id": "liberal-bargain",
   "metadata": {},
   "outputs": [],
   "source": [
    "from keras.preprocessing.sequence import TimeseriesGenerator as TG"
   ]
  },
  {
   "cell_type": "code",
   "execution_count": 48,
   "id": "given-blogger",
   "metadata": {},
   "outputs": [],
   "source": [
    "n_input = 12\n",
    "n_features = 1\n",
    "generator = TG(scaled_train, scaled_train, length=n_input, batch_size=1)"
   ]
  },
  {
   "cell_type": "code",
   "execution_count": 49,
   "id": "harmful-stick",
   "metadata": {},
   "outputs": [
    {
     "name": "stdout",
     "output_type": "stream",
     "text": [
      "Given this [1.         0.41577217 0.23658308 0.17877803 0.18987113 0.09208194\n",
      " 0.14125914 0.04057504 0.03120926 0.04230783 0.02955464 0.05472539]\n",
      "predict this [[0.05838119]]\n"
     ]
    }
   ],
   "source": [
    "# given the data of 12 days, predict volume of third day\n",
    "X,y = generator[0]\n",
    "print(\"Given this\",X.flatten())\n",
    "print(\"predict this\",y)"
   ]
  },
  {
   "cell_type": "code",
   "execution_count": 50,
   "id": "declared-death",
   "metadata": {},
   "outputs": [
    {
     "data": {
      "text/plain": [
       "(1, 12, 1)"
      ]
     },
     "execution_count": 50,
     "metadata": {},
     "output_type": "execute_result"
    }
   ],
   "source": [
    "X.shape"
   ]
  },
  {
   "cell_type": "code",
   "execution_count": 51,
   "id": "stupid-battery",
   "metadata": {},
   "outputs": [],
   "source": [
    "from keras.models import Sequential\n",
    "from keras.layers import Dense,LSTM"
   ]
  },
  {
   "cell_type": "code",
   "execution_count": 52,
   "id": "theoretical-presence",
   "metadata": {},
   "outputs": [],
   "source": [
    "model = Sequential()\n",
    "model.add(LSTM(100, activation='relu', input_shape=(n_input, n_features)))\n",
    "model.add(Dense(1))\n",
    "model.compile(optimizer='adam', loss='mse')"
   ]
  },
  {
   "cell_type": "code",
   "execution_count": 53,
   "id": "therapeutic-colonial",
   "metadata": {},
   "outputs": [
    {
     "name": "stdout",
     "output_type": "stream",
     "text": [
      "Model: \"sequential_1\"\n",
      "_________________________________________________________________\n",
      "Layer (type)                 Output Shape              Param #   \n",
      "=================================================================\n",
      "lstm_1 (LSTM)                (None, 100)               40800     \n",
      "_________________________________________________________________\n",
      "dense_1 (Dense)              (None, 1)                 101       \n",
      "=================================================================\n",
      "Total params: 40,901\n",
      "Trainable params: 40,901\n",
      "Non-trainable params: 0\n",
      "_________________________________________________________________\n"
     ]
    }
   ],
   "source": [
    "model.summary()"
   ]
  },
  {
   "cell_type": "code",
   "execution_count": 54,
   "id": "durable-legislature",
   "metadata": {},
   "outputs": [
    {
     "name": "stdout",
     "output_type": "stream",
     "text": [
      "Epoch 1/50\n",
      "578/578 [==============================] - 4s 7ms/step - loss: 0.0055\n",
      "Epoch 2/50\n",
      "578/578 [==============================] - 3s 6ms/step - loss: 0.0050\n",
      "Epoch 3/50\n",
      "578/578 [==============================] - 3s 6ms/step - loss: 0.0048\n",
      "Epoch 4/50\n",
      "578/578 [==============================] - 3s 6ms/step - loss: 0.0046\n",
      "Epoch 5/50\n",
      "578/578 [==============================] - 3s 6ms/step - loss: 0.0045\n",
      "Epoch 6/50\n",
      "578/578 [==============================] - 4s 7ms/step - loss: 0.0045\n",
      "Epoch 7/50\n",
      "578/578 [==============================] - 4s 6ms/step - loss: 0.0045\n",
      "Epoch 8/50\n",
      "578/578 [==============================] - 3s 6ms/step - loss: 0.0045\n",
      "Epoch 9/50\n",
      "578/578 [==============================] - 3s 6ms/step - loss: 0.0044\n",
      "Epoch 10/50\n",
      "578/578 [==============================] - 4s 6ms/step - loss: 0.0043\n",
      "Epoch 11/50\n",
      "578/578 [==============================] - 3s 6ms/step - loss: 0.0044\n",
      "Epoch 12/50\n",
      "578/578 [==============================] - 3s 6ms/step - loss: 0.0044\n",
      "Epoch 13/50\n",
      "578/578 [==============================] - 3s 6ms/step - loss: 0.0043\n",
      "Epoch 14/50\n",
      "578/578 [==============================] - 3s 6ms/step - loss: 0.0043\n",
      "Epoch 15/50\n",
      "578/578 [==============================] - 3s 6ms/step - loss: 0.0044\n",
      "Epoch 16/50\n",
      "578/578 [==============================] - 3s 6ms/step - loss: 0.0043\n",
      "Epoch 17/50\n",
      "578/578 [==============================] - 4s 6ms/step - loss: 0.0043\n",
      "Epoch 18/50\n",
      "578/578 [==============================] - 3s 6ms/step - loss: 0.0043\n",
      "Epoch 19/50\n",
      "578/578 [==============================] - 3s 6ms/step - loss: 0.0043\n",
      "Epoch 20/50\n",
      "578/578 [==============================] - 3s 6ms/step - loss: 0.0044\n",
      "Epoch 21/50\n",
      "578/578 [==============================] - 3s 6ms/step - loss: 0.0043\n",
      "Epoch 22/50\n",
      "578/578 [==============================] - 3s 6ms/step - loss: 0.0042\n",
      "Epoch 23/50\n",
      "578/578 [==============================] - 3s 6ms/step - loss: 0.0042\n",
      "Epoch 24/50\n",
      "578/578 [==============================] - 3s 6ms/step - loss: 0.0043\n",
      "Epoch 25/50\n",
      "578/578 [==============================] - 3s 6ms/step - loss: 0.0042\n",
      "Epoch 26/50\n",
      "578/578 [==============================] - 3s 6ms/step - loss: 0.0042\n",
      "Epoch 27/50\n",
      "578/578 [==============================] - 3s 6ms/step - loss: 0.0042\n",
      "Epoch 28/50\n",
      "578/578 [==============================] - 3s 6ms/step - loss: 0.0042\n",
      "Epoch 29/50\n",
      "578/578 [==============================] - 3s 6ms/step - loss: 0.0042\n",
      "Epoch 30/50\n",
      "578/578 [==============================] - 4s 7ms/step - loss: 0.0042\n",
      "Epoch 31/50\n",
      "578/578 [==============================] - 4s 7ms/step - loss: 0.0042\n",
      "Epoch 32/50\n",
      "578/578 [==============================] - 5s 9ms/step - loss: 0.0042\n",
      "Epoch 33/50\n",
      "578/578 [==============================] - 5s 8ms/step - loss: 0.0041\n",
      "Epoch 34/50\n",
      "578/578 [==============================] - 4s 7ms/step - loss: 0.0041\n",
      "Epoch 35/50\n",
      "578/578 [==============================] - 4s 7ms/step - loss: 0.0041\n",
      "Epoch 36/50\n",
      "578/578 [==============================] - 4s 7ms/step - loss: 0.0042\n",
      "Epoch 37/50\n",
      "578/578 [==============================] - 4s 6ms/step - loss: 0.0042\n",
      "Epoch 38/50\n",
      "578/578 [==============================] - 4s 7ms/step - loss: 0.0042\n",
      "Epoch 39/50\n",
      "578/578 [==============================] - 4s 7ms/step - loss: 0.0041\n",
      "Epoch 40/50\n",
      "578/578 [==============================] - 4s 8ms/step - loss: 0.0042\n",
      "Epoch 41/50\n",
      "578/578 [==============================] - 4s 6ms/step - loss: 0.0041\n",
      "Epoch 42/50\n",
      "578/578 [==============================] - 4s 7ms/step - loss: 0.0041\n",
      "Epoch 43/50\n",
      "578/578 [==============================] - 4s 7ms/step - loss: 0.0042\n",
      "Epoch 44/50\n",
      "578/578 [==============================] - 4s 7ms/step - loss: 0.0041\n",
      "Epoch 45/50\n",
      "578/578 [==============================] - 3s 6ms/step - loss: 0.0041\n",
      "Epoch 46/50\n",
      "578/578 [==============================] - 4s 7ms/step - loss: 0.0041\n",
      "Epoch 47/50\n",
      "578/578 [==============================] - 3s 6ms/step - loss: 0.0040\n",
      "Epoch 48/50\n",
      "578/578 [==============================] - 3s 6ms/step - loss: 0.0041\n",
      "Epoch 49/50\n",
      "578/578 [==============================] - 3s 6ms/step - loss: 0.0041\n",
      "Epoch 50/50\n",
      "578/578 [==============================] - 3s 6ms/step - loss: 0.0040\n"
     ]
    },
    {
     "data": {
      "text/plain": [
       "<tensorflow.python.keras.callbacks.History at 0x11332992e20>"
      ]
     },
     "execution_count": 54,
     "metadata": {},
     "output_type": "execute_result"
    }
   ],
   "source": [
    "model.fit(generator, epochs=50)"
   ]
  },
  {
   "cell_type": "code",
   "execution_count": 55,
   "id": "listed-liquid",
   "metadata": {},
   "outputs": [
    {
     "data": {
      "text/plain": [
       "[<matplotlib.lines.Line2D at 0x1133537c370>]"
      ]
     },
     "execution_count": 55,
     "metadata": {},
     "output_type": "execute_result"
    },
    {
     "data": {
      "image/png": "[encoded data removed]",
      "text/plain": [
       "<Figure size 432x288 with 1 Axes>"
      ]
     },
     "metadata": {
      "needs_background": "light"
     },
     "output_type": "display_data"
    }
   ],
   "source": [
    "loss_per_epoch = model.history.history['loss']\n",
    "plt.plot(range(len(loss_per_epoch)), loss_per_epoch)"
   ]
  },
  {
   "cell_type": "code",
   "execution_count": 56,
   "id": "coral-spectacular",
   "metadata": {},
   "outputs": [
    {
     "data": {
      "text/plain": [
       "array([[0.07585793]], dtype=float32)"
      ]
     },
     "execution_count": 56,
     "metadata": {},
     "output_type": "execute_result"
    }
   ],
   "source": [
    "last_train_batch = scaled_train[-12:]\n",
    "last_train_batch = last_train_batch.reshape((1, n_input, n_features))\n",
    "model.predict(last_train_batch)"
   ]
  },
  {
   "cell_type": "code",
   "execution_count": 57,
   "id": "shared-essay",
   "metadata": {},
   "outputs": [
    {
     "data": {
      "text/plain": [
       "array([0.13932684])"
      ]
     },
     "execution_count": 57,
     "metadata": {},
     "output_type": "execute_result"
    }
   ],
   "source": [
    "scaled_test[0]"
   ]
  },
  {
   "cell_type": "code",
   "execution_count": 58,
   "id": "facial-source",
   "metadata": {},
   "outputs": [],
   "source": [
    "test_predictions = []\n",
    "first_eval_batch = scaled_train[-n_input:]\n",
    "current_batch = first_eval_batch.reshape(1, n_input, n_features)\n",
    "\n",
    "for i in range(len(test)):\n",
    "    current_pred = model.predict(current_batch)[0]\n",
    "    test_predictions.append(current_pred)\n",
    "    current_batch = np.append(current_batch[:,1:,:],[[current_pred]],axis=1)"
   ]
  },
  {
   "cell_type": "code",
   "execution_count": 59,
   "id": "everyday-evanescence",
   "metadata": {},
   "outputs": [
    {
     "data": {
      "text/plain": [
       "[array([0.07585793], dtype=float32),\n",
       " array([0.08605263], dtype=float32),\n",
       " array([0.09927825], dtype=float32),\n",
       " array([0.11598846], dtype=float32),\n",
       " array([0.13373712], dtype=float32),\n",
       " array([0.15082105], dtype=float32),\n",
       " array([0.16480735], dtype=float32),\n",
       " array([0.17522076], dtype=float32),\n",
       " array([0.18151939], dtype=float32),\n",
       " array([0.1843752], dtype=float32),\n",
       " array([0.18575627], dtype=float32),\n",
       " array([0.18579416], dtype=float32),\n",
       " array([0.18543062], dtype=float32),\n",
       " array([0.1856899], dtype=float32),\n",
       " array([0.1877417], dtype=float32)]"
      ]
     },
     "execution_count": 59,
     "metadata": {},
     "output_type": "execute_result"
    }
   ],
   "source": [
    "test_predictions"
   ]
  },
  {
   "cell_type": "code",
   "execution_count": 60,
   "id": "latest-johnston",
   "metadata": {},
   "outputs": [
    {
     "data": {
      "text/html": [
       "<div>\n",
       "<style scoped>\n",
       "    .dataframe tbody tr th:only-of-type {\n",
       "        vertical-align: middle;\n",
       "    }\n",
       "\n",
       "    .dataframe tbody tr th {\n",
       "        vertical-align: top;\n",
       "    }\n",
       "\n",
       "    .dataframe thead th {\n",
       "        text-align: right;\n",
       "    }\n",
       "</style>\n",
       "<table border=\"1\" class=\"dataframe\">\n",
       "  <thead>\n",
       "    <tr style=\"text-align: right;\">\n",
       "      <th></th>\n",
       "      <th>Volume</th>\n",
       "    </tr>\n",
       "    <tr>\n",
       "      <th>Date</th>\n",
       "      <th></th>\n",
       "    </tr>\n",
       "  </thead>\n",
       "  <tbody>\n",
       "    <tr>\n",
       "      <th>2021-09-13</th>\n",
       "      <td>28868800</td>\n",
       "    </tr>\n",
       "    <tr>\n",
       "      <th>2021-09-14</th>\n",
       "      <td>36717300</td>\n",
       "    </tr>\n",
       "    <tr>\n",
       "      <th>2021-09-15</th>\n",
       "      <td>30368800</td>\n",
       "    </tr>\n",
       "    <tr>\n",
       "      <th>2021-09-16</th>\n",
       "      <td>25374000</td>\n",
       "    </tr>\n",
       "    <tr>\n",
       "      <th>2021-09-17</th>\n",
       "      <td>32165000</td>\n",
       "    </tr>\n",
       "  </tbody>\n",
       "</table>\n",
       "</div>"
      ],
      "text/plain": [
       "              Volume\n",
       "Date                \n",
       "2021-09-13  28868800\n",
       "2021-09-14  36717300\n",
       "2021-09-15  30368800\n",
       "2021-09-16  25374000\n",
       "2021-09-17  32165000"
      ]
     },
     "execution_count": 60,
     "metadata": {},
     "output_type": "execute_result"
    }
   ],
   "source": [
    "test.head()"
   ]
  },
  {
   "cell_type": "code",
   "execution_count": 61,
   "id": "olive-happiness",
   "metadata": {},
   "outputs": [],
   "source": [
    "true_predictions = scaler.inverse_transform(test_predictions)"
   ]
  },
  {
   "cell_type": "code",
   "execution_count": 62,
   "id": "expected-import",
   "metadata": {},
   "outputs": [],
   "source": [
    "test['Predictions'] = true_predictions"
   ]
  },
  {
   "cell_type": "code",
   "execution_count": 64,
   "id": "advanced-passenger",
   "metadata": {},
   "outputs": [
    {
     "data": {
      "text/plain": [
       "<matplotlib.axes._subplots.AxesSubplot at 0x11335392fa0>"
      ]
     },
     "execution_count": 64,
     "metadata": {},
     "output_type": "execute_result"
    },
    {
     "data": {
      "image/png": "[encoded data removed]",
      "text/plain": [
       "<Figure size 1008x360 with 1 Axes>"
      ]
     },
     "metadata": {
      "needs_background": "light"
     },
     "output_type": "display_data"
    }
   ],
   "source": [
    "test.plot(figsize = (14,5))"
   ]
  },
  {
   "cell_type": "code",
   "execution_count": 65,
   "id": "undefined-processor",
   "metadata": {},
   "outputs": [
    {
     "name": "stdout",
     "output_type": "stream",
     "text": [
      "22576943.532087244\n"
     ]
    }
   ],
   "source": [
    "from sklearn.metrics import mean_squared_error as mse\n",
    "from math import sqrt\n",
    "rmse = sqrt(mse(test['Volume'],test['Predictions']))\n",
    "print(rmse)"
   ]
  },
  {
   "cell_type": "code",
   "execution_count": null,
   "id": "differential-sleeping",
   "metadata": {},
   "outputs": [],
   "source": []
  }
 ],
 "metadata": {
  "kernelspec": {
   "display_name": "Python 3",
   "language": "python",
   "name": "python3"
  },
  "language_info": {
   "codemirror_mode": {
    "name": "ipython",
    "version": 3
   },
   "file_extension": ".py",
   "mimetype": "text/x-python",
   "name": "python",
   "nbconvert_exporter": "python",
   "pygments_lexer": "ipython3",
   "version": "3.8.6rc1"
  }
 },
 "nbformat": 4,
 "nbformat_minor": 5
}
